{
 "cells": [
  {
   "cell_type": "code",
   "execution_count": 2,
   "metadata": {},
   "outputs": [
    {
     "name": "stdout",
     "output_type": "stream",
     "text": [
      "ok\n"
     ]
    }
   ],
   "source": [
    "a = 800\n",
    "if a>7:\n",
    "    print(\"ok\")"
   ]
  },
  {
   "cell_type": "code",
   "execution_count": 4,
   "metadata": {},
   "outputs": [
    {
     "name": "stdout",
     "output_type": "stream",
     "text": [
      ">> 讚\n"
     ]
    }
   ],
   "source": [
    "mes = input(\">> \")\n",
    "if (\"悲傷\" in mes):\n",
    "    print(\"幹\")\n"
   ]
  },
  {
   "cell_type": "code",
   "execution_count": 5,
   "metadata": {},
   "outputs": [
    {
     "name": "stdout",
     "output_type": "stream",
     "text": [
      ">> 悲傷\n",
      "幹\n"
     ]
    }
   ],
   "source": [
    "mes = input(\">> \")\n",
    "if (\"悲傷\" in mes):\n",
    "    print(\"幹\")\n",
    "else :\n",
    "    print (\"i see\")"
   ]
  },
  {
   "cell_type": "code",
   "execution_count": 9,
   "metadata": {},
   "outputs": [
    {
     "name": "stdout",
     "output_type": "stream",
     "text": [
      ">> 幹\n",
      "88\n"
     ]
    }
   ],
   "source": [
    "mes = input(\">> \")\n",
    "if (\"悲傷\" in mes):\n",
    "    print(\"幹\")\n",
    "elif (\"開心\"in mes):\n",
    "    print (\"讚\")\n",
    "else :\n",
    "    print (\"88\")"
   ]
  },
  {
   "cell_type": "code",
   "execution_count": null,
   "metadata": {},
   "outputs": [],
   "source": []
  }
 ],
 "metadata": {
  "kernelspec": {
   "display_name": "Python 3",
   "language": "python",
   "name": "python3"
  },
  "language_info": {
   "codemirror_mode": {
    "name": "ipython",
    "version": 3
   },
   "file_extension": ".py",
   "mimetype": "text/x-python",
   "name": "python",
   "nbconvert_exporter": "python",
   "pygments_lexer": "ipython3",
   "version": "3.7.6"
  }
 },
 "nbformat": 4,
 "nbformat_minor": 4
}
